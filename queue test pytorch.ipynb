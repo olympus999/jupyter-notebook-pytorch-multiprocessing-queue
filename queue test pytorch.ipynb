{
 "cells": [
  {
   "cell_type": "markdown",
   "metadata": {},
   "source": [
    "## Norma queue speed in multiprocess"
   ]
  },
  {
   "cell_type": "code",
   "execution_count": 1,
   "metadata": {
    "ExecuteTime": {
     "end_time": "2021-04-28T19:29:53.466496Z",
     "start_time": "2021-04-28T19:29:49.898459Z"
    }
   },
   "outputs": [
    {
     "name": "stdout",
     "output_type": "stream",
     "text": [
      "put time 0.0011s\n",
      "get time 0.4693s\n"
     ]
    }
   ],
   "source": [
    "import multiprocessing as mp\n",
    "import numpy as np\n",
    "import time\n",
    "\n",
    "def foo(q):\n",
    "    t = np.zeros((16,2048,2048,3), dtype=np.uint8)\n",
    "    start = time.time()\n",
    "    q.put(t)\n",
    "    end = time.time()\n",
    "    q.put(end - start)\n",
    "    # print('put time', end - start)\n",
    "\n",
    "q = mp.Queue()\n",
    "p = mp.Process(target=foo, args=(q,))\n",
    "p.start()\n",
    "\n",
    "# Make sure process has put something to queue\n",
    "time.sleep(3)\n",
    "\n",
    "start = time.time()\n",
    "r = q.get(timeout=5)\n",
    "end = time.time()\n",
    "p.join()\n",
    "r = q.get(timeout=5)\n",
    "diff = end - start\n",
    "print('put time', '{}s'.format((round(r, 4))))\n",
    "print('get time', '{}s'.format(round(diff, 4)))"
   ]
  },
  {
   "cell_type": "code",
   "execution_count": null,
   "metadata": {
    "ExecuteTime": {
     "start_time": "2021-04-28T19:29:56.344Z"
    }
   },
   "outputs": [
    {
     "data": {
      "text/html": [
       "<script>Jupyter.notebook.kernel.restart()</script>"
      ],
      "text/plain": [
       "<IPython.core.display.HTML object>"
      ]
     },
     "execution_count": 2,
     "metadata": {},
     "output_type": "execute_result"
    }
   ],
   "source": [
    "# Restart kernel to avoid issues, necessary before running next lines\n",
    "\n",
    "# When using jupyter lab\n",
    "# import os\n",
    "# os._exit(00)\n",
    "\n",
    "# When using jupyter notebook\n",
    "from IPython.core.display import HTML\n",
    "HTML(\"<script>Jupyter.notebook.kernel.restart()</script>\")"
   ]
  },
  {
   "cell_type": "markdown",
   "metadata": {},
   "source": [
    "## Torch queue speed (shared memory)"
   ]
  },
  {
   "cell_type": "code",
   "execution_count": 1,
   "metadata": {
    "ExecuteTime": {
     "end_time": "2021-04-28T19:30:03.199248Z",
     "start_time": "2021-04-28T19:29:59.667860Z"
    }
   },
   "outputs": [
    {
     "name": "stdout",
     "output_type": "stream",
     "text": [
      "put time 0.0006s\n",
      "get time 0.0041s\n"
     ]
    }
   ],
   "source": [
    "import torch.multiprocessing as mp\n",
    "from torchelastic import events\n",
    "import torchelastic\n",
    "import sys, importlib\n",
    "import inspect\n",
    "import time\n",
    "import numpy as np\n",
    "\n",
    "def parallal_task(func, e):\n",
    "\n",
    "    # Create a temp file for \"func\"\n",
    "    with open(f'./tmp_func_file.py', 'w') as file:\n",
    "        file.write(inspect.getsource(func).replace(func.__name__, \"func\"))\n",
    "\n",
    "    # Reload the tmp_func_file when making changes to foo, without restarting kernel.\n",
    "    importlib.reload(sys.modules.get('tmp_func_file', sys))\n",
    "    from tmp_func_file import func\n",
    "\n",
    "    if __name__ == '__main__':\n",
    "        smp = mp.get_context('spawn')\n",
    "        q = smp.Queue()\n",
    "        p = mp.spawn(fn=func, args=(q, e,), join=False, nprocs=1)\n",
    "        \n",
    "        return p, q\n",
    "    else:\n",
    "        raise \"Not in Jupyter Notebook\"\n",
    "\n",
    "def foo(i, q, e):\n",
    "    import torch\n",
    "    import time\n",
    "    \n",
    "    start = time.time()\n",
    "    q.put(torch.ByteTensor(16,2048,2048,3))\n",
    "    end = time.time()\n",
    "    q.put(end - start)\n",
    "    e.wait()\n",
    "\n",
    "smp = mp.get_context('spawn')\n",
    "e = smp.Event()\n",
    "p, q = parallal_task(foo, e)\n",
    "\n",
    "# Make sure process has put something to queue\n",
    "time.sleep(3)\n",
    "\n",
    "start = time.time()\n",
    "r = q.get(timeout=10)\n",
    "end = time.time()\n",
    "r = q.get(timeout=10)\n",
    "diff = end - start\n",
    "print('put time', '{}s'.format((round(r, 4))))\n",
    "print('get time', '{}s'.format(round(diff, 4)))\n",
    "e.set()"
   ]
  },
  {
   "cell_type": "code",
   "execution_count": 3,
   "metadata": {
    "ExecuteTime": {
     "end_time": "2021-04-28T19:30:19.824610Z",
     "start_time": "2021-04-28T19:30:19.818885Z"
    }
   },
   "outputs": [
    {
     "data": {
      "text/plain": [
       "114.46341463414633"
      ]
     },
     "execution_count": 3,
     "metadata": {},
     "output_type": "execute_result"
    }
   ],
   "source": [
    "# Depending on some variations, in this experiment, \n",
    "# using torch queue has at least 100x improvement in speed.\n",
    "0.4693/0.0041"
   ]
  },
  {
   "cell_type": "code",
   "execution_count": null,
   "metadata": {},
   "outputs": [],
   "source": []
  }
 ],
 "metadata": {
  "kernelspec": {
   "display_name": "Python 3",
   "language": "python",
   "name": "python3"
  },
  "language_info": {
   "codemirror_mode": {
    "name": "ipython",
    "version": 3
   },
   "file_extension": ".py",
   "mimetype": "text/x-python",
   "name": "python",
   "nbconvert_exporter": "python",
   "pygments_lexer": "ipython3",
   "version": "3.8.5"
  }
 },
 "nbformat": 4,
 "nbformat_minor": 4
}
